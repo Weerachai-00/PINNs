{
 "cells": [
  {
   "cell_type": "code",
   "execution_count": 4,
   "id": "e1a2c609",
   "metadata": {},
   "outputs": [],
   "source": [
    "import tensorflow as tf\n",
    "import numpy as np\n",
    "import matplotlib.pyplot as plt"
   ]
  },
  {
   "cell_type": "code",
   "execution_count": 39,
   "id": "b0c7f4f3",
   "metadata": {},
   "outputs": [],
   "source": [
    "NoN = 2 # Number output of NN\n",
    "\n",
    "class NN(tf.keras.Model):\n",
    "    def __init__(self):\n",
    "        super(NN, self).__init__()\n",
    "        self.hidden_layer_1 = tf.keras.layers.Dense(units = 64, activation='tanh')\n",
    "        self.hidden_layer_2 = tf.keras.layers.Dense(units = 64, activation='tanh')\n",
    "        self.hidden_layer_3 = tf.keras.layers.Dense(units = 64, activation='tanh')\n",
    "        self.output_layer = tf.keras.layers.Dense(NoN, activation=None)  \n",
    "        \n",
    "    def call(self, x):\n",
    "        x = self.hidden_layer_1(x)\n",
    "        x = self.hidden_layer_2(x)\n",
    "        x = self.hidden_layer_3(x)\n",
    "        return self.output_layer(x)\n",
    "\n",
    "    \n",
    "def func(x, model):\n",
    "    with tf.GradientTape(persistent=True) as tape:\n",
    "        tape.watch(x)\n",
    "        u = model(x)\n",
    "        u_1,u_2 = u[:,0:1],u[:,1:2]\n",
    "        \n",
    "        du_1 = tape.gradient(u_1, x)\n",
    "        du_2 = tape.gradient(u_2, x)\n",
    "    \n",
    "    f1 = du_1 - (u_1 - u_1*u_2)\n",
    "    f2 = du_2 - (u_1*u_2 - u_2)\n",
    "    return f1, f2\n",
    "\n",
    "\n",
    "# loss function\n",
    "def loss_fn(t,model):\n",
    "    f1, f2 = func(t,model)    \n",
    "    loss1 = tf.reduce_mean(tf.square(f1)) \n",
    "    loss2 = tf.reduce_mean(tf.square(f2)) \n",
    "    total_loss = loss1 + loss2\n",
    "    return total_loss\n",
    "\n",
    "\n",
    "#loss function condition\n",
    "def loss_fn_con(model):\n",
    "    u_pred = model(tf.convert_to_tensor(t_init, dtype=tf.float32))\n",
    "    return tf.reduce_mean(tf.square(u_pred - u_init))\n",
    "\n",
    "\n",
    "# total loss function\n",
    "def total_loss(t,model):\n",
    "    return loss_fn(t,model) + loss_fn_con(model)\n",
    "    \n"
   ]
  },
  {
   "cell_type": "code",
   "execution_count": 38,
   "id": "f64c5bb6",
   "metadata": {},
   "outputs": [
    {
     "name": "stdout",
     "output_type": "stream",
     "text": [
      "Epoch: 0, Loss: 2.40000581741333\n",
      "Epoch: 1000, Loss: 0.0915272980928421\n",
      "Epoch: 2000, Loss: 0.08684726804494858\n",
      "Epoch: 3000, Loss: 0.08615133166313171\n",
      "Epoch: 4000, Loss: 0.08571792393922806\n"
     ]
    },
    {
     "data": {
      "image/png": "[encoded data removed]",
      "text/plain": [
       "<Figure size 432x288 with 1 Axes>"
      ]
     },
     "metadata": {
      "needs_background": "light"
     },
     "output_type": "display_data"
    }
   ],
   "source": [
    "model = NN()   \n",
    "\n",
    "# condition \n",
    "t_init = np.array([[0.0]]) # t_0\n",
    "u_init = np.array([[1.5, 1.0]]) # u_1(0) & u_2(0)\n",
    "\n",
    "t_data = np.linspace(0,10,100).reshape(-1,1)   \n",
    "t_tensor = tf.convert_to_tensor(t_data, dtype=tf.float32) \n",
    "\n",
    "epochs = 5000    \n",
    "for epoch in range(epochs):\n",
    "    optimizer = tf.keras.optimizers.Adam(learning_rate=1e-4)\n",
    "    with tf.GradientTape() as tape:\n",
    "        loss = total_loss(t_tensor, model)\n",
    "    gradients = tape.gradient(loss, model.trainable_variables)\n",
    "    optimizer.apply_gradients(zip(gradients, model.trainable_variables))\n",
    "        \n",
    "    if epoch % 1000 == 0:\n",
    "        print(f'Epoch: {epoch}, Loss: {loss.numpy()}')\n",
    "\n",
    "# Results\n",
    "u_pred = model(t_tensor).numpy()\n",
    "u1_pred, u2_pred = u_pred[:, 0], u_pred[:, 1]\n",
    "\n",
    "# Plot results\n",
    "plt.plot(t_data, u1_pred, label='u1(t)')\n",
    "plt.plot(t_data, u2_pred, label='u2(t)')\n",
    "plt.xlabel('Time')\n",
    "plt.ylabel('Solution')\n",
    "plt.legend()\n",
    "plt.show()"
   ]
  },
  {
   "cell_type": "code",
   "execution_count": 30,
   "id": "528a1524",
   "metadata": {},
   "outputs": [
    {
     "data": {
      "text/plain": [
       "1024"
      ]
     },
     "execution_count": 30,
     "metadata": {},
     "output_type": "execute_result"
    }
   ],
   "source": []
  },
  {
   "cell_type": "code",
   "execution_count": null,
   "id": "0b894acd",
   "metadata": {},
   "outputs": [],
   "source": []
  },
  {
   "cell_type": "code",
   "execution_count": null,
   "id": "2170409b",
   "metadata": {},
   "outputs": [],
   "source": []
  },
  {
   "cell_type": "code",
   "execution_count": null,
   "id": "36856442",
   "metadata": {},
   "outputs": [],
   "source": []
  },
  {
   "cell_type": "code",
   "execution_count": null,
   "id": "04450db5",
   "metadata": {},
   "outputs": [],
   "source": []
  }
 ],
 "metadata": {
  "kernelspec": {
   "display_name": "Python 3 (ipykernel)",
   "language": "python",
   "name": "python3"
  },
  "language_info": {
   "codemirror_mode": {
    "name": "ipython",
    "version": 3
   },
   "file_extension": ".py",
   "mimetype": "text/x-python",
   "name": "python",
   "nbconvert_exporter": "python",
   "pygments_lexer": "ipython3",
   "version": "3.10.12"
  }
 },
 "nbformat": 4,
 "nbformat_minor": 5
}
